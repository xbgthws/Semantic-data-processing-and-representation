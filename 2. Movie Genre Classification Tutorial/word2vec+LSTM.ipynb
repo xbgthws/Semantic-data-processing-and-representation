{
  "cells": [
    {
      "cell_type": "code",
      "execution_count": null,
      "metadata": {
        "colab": {
          "base_uri": "https://localhost:8080/"
        },
        "id": "8Lp8Nn07osS7",
        "outputId": "31ae9b39-0dba-45db-a770-fcf9698c3217"
      },
      "outputs": [
        {
          "name": "stdout",
          "output_type": "stream",
          "text": [
            "Mounted at /content/drive\n"
          ]
        }
      ],
      "source": [
        "from google.colab import drive\n",
        "drive.mount('/content/drive')"
      ]
    },
    {
      "cell_type": "code",
      "execution_count": null,
      "metadata": {
        "colab": {
          "base_uri": "https://localhost:8080/"
        },
        "id": "-x_IddUE197N",
        "outputId": "aa9058a2-9ad8-497f-95e6-01495de32be5"
      },
      "outputs": [
        {
          "name": "stdout",
          "output_type": "stream",
          "text": [
            "                                             comment  \\\n",
            "0  Listening in to a conversation between his doc...   \n",
            "1  A brother and sister with a past incestuous re...   \n",
            "2  As the bus empties the students for their fiel...   \n",
            "3  To help their unemployed father make ends meet...   \n",
            "4  The film's title refers not only to the un-rec...   \n",
            "\n",
            "                                     cleaned_comment  \\\n",
            "0  Listening in to a conversation between his doc...   \n",
            "1  A brother and sister with a past incestuous re...   \n",
            "2  As the bus empties the students for their fiel...   \n",
            "3  To help their unemployed father make ends meet...   \n",
            "4  The films title refers not only to the unrecov...   \n",
            "\n",
            "                                   tokenized_comment  \n",
            "0  [listening, in, to, a, conversation, between, ...  \n",
            "1  [a, brother, and, sister, with, a, past, inces...  \n",
            "2  [as, the, bus, empties, the, students, for, th...  \n",
            "3  [to, help, their, unemployed, father, make, en...  \n",
            "4  [the, films, title, refers, not, only, to, the...  \n"
          ]
        }
      ],
      "source": [
        "import pandas as pd\n",
        "import string\n",
        "import torchtext\n",
        "from torchtext.data.utils import get_tokenizer\n",
        "\n",
        "# 1. Read Data\n",
        "file_path = '/content/drive/MyDrive/movie.csv'  # Replace with your file path\n",
        "movie_data = pd.read_csv(file_path)\n",
        "\n",
        "# 2. Remove punctuation and digits from comments\n",
        "def remove_punctuation_and_digits(text):\n",
        "    return text.translate(str.maketrans('', '', string.punctuation + string.digits))\n",
        "\n",
        "movie_data['cleaned_comment'] = movie_data['comment'].apply(remove_punctuation_and_digits)\n",
        "\n",
        "# 3. Tokenize using torchtext\n",
        "tokenizer = get_tokenizer(\"basic_english\")\n",
        "movie_data['tokenized_comment'] = movie_data['cleaned_comment'].apply(tokenizer)\n",
        "\n",
        "# View processed data\n",
        "print(movie_data[['comment', 'cleaned_comment', 'tokenized_comment']].head())"
      ]
    },
    {
      "cell_type": "code",
      "execution_count": null,
      "metadata": {
        "id": "FFXbdX5bVm5o"
      },
      "outputs": [],
      "source": []
    },
    {
      "cell_type": "code",
      "execution_count": null,
      "metadata": {
        "colab": {
          "base_uri": "https://localhost:8080/"
        },
        "id": "R3Qfr1hG29OI",
        "outputId": "6964bb05-1a87-43b0-f756-196ba178c0a5"
      },
      "outputs": [
        {
          "name": "stderr",
          "output_type": "stream",
          "text": [
            "WARNING:gensim.models.word2vec:Effective 'alpha' higher than previous training cycles\n"
          ]
        },
        {
          "name": "stdout",
          "output_type": "stream",
          "text": [
            "[ 1.5612069  -0.33088684 -0.12444365  1.1169889  -0.49167553  1.6409\n",
            " -0.62694263 -0.42296076  0.07017151  0.30688584 -0.81503195 -2.4150217\n",
            "  0.60396415  0.1953968  -1.1387953   0.10860922  1.692322   -0.35708728\n",
            "  0.79222494 -0.05084139  0.0622489   0.08045752 -0.53655005  0.09032746\n",
            " -1.2653705  -0.8644589  -0.5436416  -0.562497    0.1767839   0.95632845\n",
            " -0.4617368   1.4110317   0.02329496 -1.4738669   0.14209488 -0.00631555\n",
            " -0.8053188  -1.0904939   1.0237795   0.27582744 -0.52487385  1.3886155\n",
            " -0.1715262   0.599352    0.32274118 -0.88874185  0.9494282  -0.59447503\n",
            "  0.7149535  -2.7690651  -0.49113575 -0.44289467  0.43913466  1.1848592\n",
            " -0.41325584 -0.98636365  0.06541509 -0.35241908 -0.7626108  -1.3459704\n",
            " -1.1039256   0.265897    0.0742055  -0.83519065  0.4799615   0.6415965\n",
            "  0.11248821  1.0396608  -0.6110369   0.10082378  0.50839686  0.046845\n",
            " -1.2094338  -0.79635936  1.0889723  -1.1922337   0.01908717 -0.39249697\n",
            " -0.60991096  0.37272188 -0.12460682  0.3521387  -0.36591473  0.41747445\n",
            " -1.8755983   0.71292055  0.26104316 -0.79154277 -1.7034347  -0.07269482\n",
            "  0.51688707  0.41552117 -1.4317273  -0.21489051  0.34357816  1.7005596\n",
            " -2.648591   -0.22877687  0.22189471 -0.8899341  -1.2204458   0.8632527\n",
            " -0.281988    1.3930774  -0.34397987 -2.0234861  -0.31509116 -1.8416245\n",
            " -0.38156867 -0.6341733   0.29185092 -1.4597083  -0.8132945   0.5863444\n",
            " -0.7391685   0.32244912  2.1131253   0.3251613   0.15124823  1.7730379\n",
            "  0.16682446  1.661395    0.12514345  0.59296876  0.00875745  0.92714447\n",
            "  0.9674958   1.2020363   1.1635556  -0.72396225  0.26089966 -1.6333455\n",
            " -1.726421   -0.73972887 -0.5095844  -1.2550718  -0.22303368 -0.18476562\n",
            " -0.5226264   0.17518066 -0.25589183  0.45096564  0.04835355  0.70629966\n",
            "  1.0266802   0.34717444 -0.05462226 -0.4957204  -1.1034913  -1.3597159\n",
            "  0.19249074  0.8334939   0.36442772  1.1239765   0.561627   -0.7771656\n",
            " -1.247313   -0.03306339 -0.20485623  0.38589206 -0.1581126   0.9945264\n",
            "  1.562808   -1.2059311  -0.11070868  0.26843852  0.65814835 -0.86464626\n",
            "  0.6081464   0.5081412   0.2773731   1.143389    0.12678687  0.73355\n",
            "  0.45962793 -0.5410359   0.3416292   2.3604524   0.76763403  0.6788776\n",
            " -0.93843037  0.1469934   0.7515547   0.03907019 -0.2873486   0.2207077\n",
            "  0.08821097 -0.75673413  0.8714292   0.81700975 -0.11174729 -0.22932486\n",
            "  0.12252943  0.7285155  -0.83556485  1.7908812  -0.5492963   1.0306777\n",
            "  0.6147004  -0.6315112  -1.1274203  -0.9835766  -0.26550668  0.41296673\n",
            "  1.4723057   1.0114917   1.0166863  -0.07321902 -0.56302816  0.4716296\n",
            "  0.31080183 -0.6999445   1.1030971   1.5264149  -0.9240514   0.7236962\n",
            "  0.5782584   0.04714724  0.11975854 -1.6713476   0.12278292  0.14787443\n",
            "  0.03824495 -1.8140976   0.89664155 -0.9385929   0.8652212  -0.1616483\n",
            "  0.0592123  -1.6372498   0.36063316 -0.35542578  0.7618132   0.90569603\n",
            " -0.89124674  0.7590746   0.9109207   0.3162606  -0.03325995  0.17383847\n",
            " -1.0071801  -0.02971636 -0.65949744  1.5485948   0.10372265  0.7391882\n",
            "  0.17767319  0.37807783 -1.4951801  -0.29757628  0.9761389  -0.25620943\n",
            " -1.1968281  -0.36049908  0.49506852 -0.35853562  0.98778087 -0.18709679\n",
            " -1.5199662  -0.3787244  -0.8147648   0.72940606 -0.943738    1.3921618\n",
            " -0.13120052 -0.7286559   0.13698767 -0.5825398  -0.07167166 -0.32830614\n",
            " -0.10993373 -0.14040282 -0.04145594  0.896725    0.09494939  1.4785186\n",
            "  0.27726573  0.16459273  0.293931    0.43537253  0.03596705 -0.42604768\n",
            "  0.48313022  0.17979835  0.89268494  1.0962542  -1.1185366  -0.7507492\n",
            "  0.16677523 -0.27350032  1.828512    0.06748474  0.41929358 -0.14046396\n",
            " -0.33071908 -2.1722612   1.5064011   0.41211608  1.700176   -1.0025192 ]\n"
          ]
        }
      ],
      "source": [
        "import gensim\n",
        "model = gensim.models.Word2Vec(movie_data['tokenized_comment'], vector_size=300, window=5, min_count=10, workers=4)\n",
        "model.train(movie_data['tokenized_comment'], total_examples=model.corpus_count, epochs=model.epochs)\n",
        "# 3. Use the model to get word vectors\n",
        "vector = model.wv['movie']\n",
        "# View word vector\n",
        "print(vector)"
      ]
    },
    {
      "cell_type": "code",
      "execution_count": null,
      "metadata": {
        "colab": {
          "base_uri": "https://localhost:8080/"
        },
        "id": "12EiYOM24GiP",
        "outputId": "8224c509-6e71-48ea-e157-3812cd561c31"
      },
      "outputs": [
        {
          "name": "stdout",
          "output_type": "stream",
          "text": [
            "Dimension of feature vectors: (54214, 300)\n"
          ]
        }
      ],
      "source": [
        "import numpy as np\n",
        "\n",
        "# Initialize feature vector list\n",
        "feature_vectors = []\n",
        "\n",
        "# Generate a feature vector for each comment\n",
        "for tokens in movie_data['tokenized_comment']:\n",
        "    vector_sum = np.zeros(model.vector_size)\n",
        "    words_in_model = 0\n",
        "\n",
        "    for token in tokens:\n",
        "        if token in model.wv:\n",
        "            vector_sum += model.wv[token]\n",
        "            words_in_model += 1\n",
        "\n",
        "    # Avoid division by zero\n",
        "    if words_in_model > 0:\n",
        "        average_vector = vector_sum / words_in_model\n",
        "    else:\n",
        "        average_vector = vector_sum\n",
        "\n",
        "    feature_vectors.append(average_vector)\n",
        "\n",
        "# Convert feature vector list to Numpy array for subsequent processing\n",
        "feature_vectors = np.array(feature_vectors)\n",
        "\n",
        "# Feature vector dimension should be consistent with Word2Vec model's vector_size\n",
        "print(\"Dimension of feature vectors:\", feature_vectors.shape)"
      ]
    },
    {
      "cell_type": "code",
      "execution_count": null,
      "metadata": {
        "colab": {
          "base_uri": "https://localhost:8080/"
        },
        "id": "5CX30zMRLiFs",
        "outputId": "841a33d9-86e9-441a-bd4e-7d6ae353b62c"
      },
      "outputs": [
        {
          "name": "stdout",
          "output_type": "stream",
          "text": [
            "Example of encoded labels: [ 8 24  1  8  8]\n",
            "Example of original labels: ['drama' 'thriller' 'adult' 'drama' 'drama']\n"
          ]
        }
      ],
      "source": [
        "from sklearn.preprocessing import LabelEncoder\n",
        "\n",
        "# Create an instance of the label encoder\n",
        "label_encoder = LabelEncoder()\n",
        "\n",
        "# Fit and transform labels\n",
        "encoded_labels = label_encoder.fit_transform(movie_data['type'])\n",
        "\n",
        "# Display a few encoded labels\n",
        "print(\"Example of encoded labels:\", encoded_labels[:5])\n",
        "\n",
        "# Display corresponding original labels\n",
        "print(\"Example of original labels:\", movie_data['type'][:5].values)\n"
      ]
    },
    {
      "cell_type": "code",
      "execution_count": null,
      "metadata": {
        "colab": {
          "base_uri": "https://localhost:8080/"
        },
        "id": "uDVeJO_ZMSJI",
        "outputId": "3555c220-06c9-4341-c13f-57da25331b77"
      },
      "outputs": [
        {
          "name": "stdout",
          "output_type": "stream",
          "text": [
            "Training set size: 43371\n",
            "Validation set size: 10843\n"
          ]
        }
      ],
      "source": [
        "from sklearn.model_selection import train_test_split\n",
        "\n",
        "# Feature vectors and labels\n",
        "X = feature_vectors  # Previously calculated feature vectors\n",
        "y = encoded_labels   # Previously encoded labels\n",
        "\n",
        "# Initial split: 80% training set and 20% remaining data set\n",
        "X_train, X_valid, y_train, y_valid = train_test_split(X, y, test_size=0.2, random_state=42)\n",
        "\n",
        "# Output the size of each data set to confirm the split\n",
        "print(\"Training set size:\", len(X_train))\n",
        "print(\"Validation set size:\", len(X_valid))"
      ]
    },
    {
      "cell_type": "code",
      "execution_count": null,
      "metadata": {
        "colab": {
          "base_uri": "https://localhost:8080/"
        },
        "id": "al5FdZTfNsCB",
        "outputId": "82b59e18-60bf-432a-9eac-1d2d3b12852b"
      },
      "outputs": [
        {
          "name": "stdout",
          "output_type": "stream",
          "text": [
            "TextLSTM(\n",
            "  (lstm): LSTM(300, 500, num_layers=2, batch_first=True, bidirectional=True)\n",
            "  (dropout): Dropout(p=0.1, inplace=False)\n",
            "  (fc): Linear(in_features=1000, out_features=27, bias=True)\n",
            ")\n"
          ]
        }
      ],
      "source": [
        "import torch\n",
        "import torch.nn as nn\n",
        "import torch.nn.functional as F\n",
        "class TextLSTM(nn.Module):\n",
        "    def __init__(self, input_size, hidden_size, output_size, num_layers, bidirectional, dropout_prob):\n",
        "        super(TextLSTM, self).__init__()\n",
        "        self.hidden_size = hidden_size\n",
        "        self.num_layers = num_layers\n",
        "        self.bidirectional = bidirectional\n",
        "\n",
        "        # LSTM layer\n",
        "        self.lstm = nn.LSTM(input_size, hidden_size, num_layers, batch_first=True, bidirectional=bidirectional)\n",
        "\n",
        "        # Dropout layer\n",
        "        self.dropout = nn.Dropout(dropout_prob)\n",
        "\n",
        "        # Fully connected layer\n",
        "        if bidirectional:\n",
        "            self.fc = nn.Linear(hidden_size * 2, output_size)\n",
        "        else:\n",
        "            self.fc = nn.Linear(hidden_size, output_size)\n",
        "\n",
        "    def forward(self, x):\n",
        "        x = x.unsqueeze(1)\n",
        "        # Initialize hidden and cell states for LSTM\n",
        "        h0 = torch.zeros(self.num_layers * (2 if self.bidirectional else 1), x.size(0), self.hidden_size).to(x.device)\n",
        "        c0 = torch.zeros(self.num_layers * (2 if self.bidirectional else 1), x.size(0), self.hidden_size).to(x.device)\n",
        "\n",
        "        # LSTM layer\n",
        "        out, _ = self.lstm(x, (h0, c0))\n",
        "\n",
        "        # Dropout layer\n",
        "        out = self.dropout(out[:, -1, :])\n",
        "\n",
        "        # Fully connected layer\n",
        "        out = self.fc(out)\n",
        "\n",
        "        return out\n",
        "\n",
        "# Network parameters\n",
        "input_size = 300 # Set according to Word2Vec word vector dimension\n",
        "hidden_size = 500\n",
        "output_size = len(set(encoded_labels)) # Number of categories\n",
        "num_layers = 2\n",
        "bidirectional=True\n",
        "dropout_prob = 0.1\n",
        "\n",
        "# Create model instance\n",
        "model = TextLSTM(input_size, hidden_size, output_size, num_layers, bidirectional, dropout_prob)\n",
        "\n",
        "print(model)"
      ]
    },
    {
      "cell_type": "code",
      "execution_count": null,
      "metadata": {
        "id": "DNIL0CH1P2Cz"
      },
      "outputs": [],
      "source": [
        "from torch.utils.data import Dataset, DataLoader\n",
        "import torch\n",
        "\n",
        "class TextDataset(Dataset):\n",
        "    def __init__(self, X, y):\n",
        "        self.X = X\n",
        "        self.y = y\n",
        "\n",
        "    def __len__(self):\n",
        "        return len(self.X)\n",
        "\n",
        "    def __getitem__(self, idx):\n",
        "        return self.X[idx], self.y[idx]\n",
        "\n",
        "# Convert feature vectors and labels to torch tensors\n",
        "X_train_tensor = torch.tensor(X_train, dtype=torch.float)\n",
        "y_train_tensor = torch.tensor(y_train, dtype=torch.long)\n",
        "\n",
        "X_valid_tensor = torch.tensor(X_valid, dtype=torch.float)\n",
        "y_valid_tensor = torch.tensor(y_valid, dtype=torch.long)\n",
        "\n",
        "# Create Dataset objects\n",
        "train_dataset = TextDataset(X_train_tensor, y_train_tensor)\n",
        "valid_dataset = TextDataset(X_valid_tensor, y_valid_tensor)\n",
        "\n",
        "batch_size = 128\n",
        "\n",
        "train_loader = DataLoader(train_dataset, batch_size=batch_size, shuffle=True)\n",
        "valid_loader = DataLoader(valid_dataset, batch_size=batch_size, shuffle=False)"
      ]
    },
    {
      "cell_type": "code",
      "execution_count": null,
      "metadata": {
        "id": "U-zIcbkUaOeX"
      },
      "outputs": [],
      "source": [
        "from sklearn.metrics import precision_recall_fscore_support\n",
        "import torch.optim as optim\n",
        "import torch.nn as nn\n",
        "import torch\n",
        "\n",
        "def train_model(model, train_loader, criterion, optimizer, device):\n",
        "    model.train()\n",
        "    total_loss, total_correct, all_labels, all_predictions = 0, 0, [], []\n",
        "\n",
        "    for inputs, labels in train_loader:\n",
        "        inputs, labels = inputs.to(device), labels.to(device)\n",
        "\n",
        "        optimizer.zero_grad()\n",
        "        outputs = model(inputs)\n",
        "        loss = criterion(outputs, labels)\n",
        "        loss.backward()\n",
        "        optimizer.step()\n",
        "\n",
        "        total_loss += loss.item()\n",
        "        _, predicted = torch.max(outputs.data, 1)\n",
        "        total_correct += (predicted == labels).sum().item()\n",
        "\n",
        "        all_labels.extend(labels.cpu().numpy())\n",
        "        all_predictions.extend(predicted.cpu().numpy())\n",
        "\n",
        "    avg_loss = total_loss / len(train_loader)\n",
        "    avg_accuracy = total_correct / len(train_loader.dataset)\n",
        "\n",
        "    precision, recall, f1, _ = precision_recall_fscore_support(all_labels, all_predictions, average='weighted')\n",
        "    return avg_loss, avg_accuracy, precision, recall, f1\n",
        "\n",
        "def evaluate_model(model, val_loader, criterion, device):\n",
        "    model.eval()\n",
        "    total_loss, total_correct, all_labels, all_predictions = 0, 0, [], []\n",
        "\n",
        "    with torch.no_grad():\n",
        "        for inputs, labels in val_loader:\n",
        "            inputs, labels = inputs.to(device), labels.to(device)\n",
        "\n",
        "            outputs = model(inputs)\n",
        "            loss = criterion(outputs, labels)\n",
        "\n",
        "            total_loss += loss.item()\n",
        "            _, predicted = torch.max(outputs.data, 1)\n",
        "            total_correct += (predicted == labels).sum().item()\n",
        "\n",
        "            all_labels.extend(labels.cpu().numpy())\n",
        "            all_predictions.extend(predicted.cpu().numpy())\n",
        "\n",
        "    avg_loss = total_loss / len(val_loader)\n",
        "    avg_accuracy = total_correct / len(val_loader.dataset)\n",
        "\n",
        "    precision, recall, f1, _ = precision_recall_fscore_support(all_labels, all_predictions, average='weighted')\n",
        "    return avg_loss, avg_accuracy, precision, recall, f1"
      ]
    },
    {
      "cell_type": "code",
      "execution_count": null,
      "metadata": {
        "colab": {
          "background_save": true,
          "base_uri": "https://localhost:8080/"
        },
        "id": "9pjhsOdHQCvG",
        "outputId": "d63d176d-1e8d-40b2-cdab-f52c2eae7fc9"
      },
      "outputs": [
        {
          "name": "stderr",
          "output_type": "stream",
          "text": [
            "/usr/local/lib/python3.10/dist-packages/sklearn/metrics/_classification.py:1344: UndefinedMetricWarning: Precision and F-score are ill-defined and being set to 0.0 in labels with no predicted samples. Use `zero_division` parameter to control this behavior.\n",
            "  _warn_prf(average, modifier, msg_start, len(result))\n",
            "/usr/local/lib/python3.10/dist-packages/sklearn/metrics/_classification.py:1344: UndefinedMetricWarning: Precision and F-score are ill-defined and being set to 0.0 in labels with no predicted samples. Use `zero_division` parameter to control this behavior.\n",
            "  _warn_prf(average, modifier, msg_start, len(result))\n"
          ]
        },
        {
          "name": "stdout",
          "output_type": "stream",
          "text": [
            "Epoch 1/10 - Train loss: 1.7451, accuracy: 0.4963, precision: 0.4273, recall: 0.4963, F1: 0.4309, Val loss: 1.5067, accuracy: 0.5431, precision: 0.4975, recall: 0.5431, F1: 0.4869\n"
          ]
        },
        {
          "name": "stderr",
          "output_type": "stream",
          "text": [
            "/usr/local/lib/python3.10/dist-packages/sklearn/metrics/_classification.py:1344: UndefinedMetricWarning: Precision and F-score are ill-defined and being set to 0.0 in labels with no predicted samples. Use `zero_division` parameter to control this behavior.\n",
            "  _warn_prf(average, modifier, msg_start, len(result))\n",
            "/usr/local/lib/python3.10/dist-packages/sklearn/metrics/_classification.py:1344: UndefinedMetricWarning: Precision and F-score are ill-defined and being set to 0.0 in labels with no predicted samples. Use `zero_division` parameter to control this behavior.\n",
            "  _warn_prf(average, modifier, msg_start, len(result))\n"
          ]
        },
        {
          "name": "stdout",
          "output_type": "stream",
          "text": [
            "Epoch 2/10 - Train loss: 1.4660, accuracy: 0.5526, precision: 0.5040, recall: 0.5526, F1: 0.5099, Val loss: 1.4287, accuracy: 0.5590, precision: 0.5153, recall: 0.5590, F1: 0.5192\n"
          ]
        },
        {
          "name": "stderr",
          "output_type": "stream",
          "text": [
            "/usr/local/lib/python3.10/dist-packages/sklearn/metrics/_classification.py:1344: UndefinedMetricWarning: Precision and F-score are ill-defined and being set to 0.0 in labels with no predicted samples. Use `zero_division` parameter to control this behavior.\n",
            "  _warn_prf(average, modifier, msg_start, len(result))\n",
            "/usr/local/lib/python3.10/dist-packages/sklearn/metrics/_classification.py:1344: UndefinedMetricWarning: Precision and F-score are ill-defined and being set to 0.0 in labels with no predicted samples. Use `zero_division` parameter to control this behavior.\n",
            "  _warn_prf(average, modifier, msg_start, len(result))\n"
          ]
        },
        {
          "name": "stdout",
          "output_type": "stream",
          "text": [
            "Epoch 3/10 - Train loss: 1.4010, accuracy: 0.5657, precision: 0.5255, recall: 0.5657, F1: 0.5280, Val loss: 1.4024, accuracy: 0.5626, precision: 0.5266, recall: 0.5626, F1: 0.5201\n"
          ]
        },
        {
          "name": "stderr",
          "output_type": "stream",
          "text": [
            "/usr/local/lib/python3.10/dist-packages/sklearn/metrics/_classification.py:1344: UndefinedMetricWarning: Precision and F-score are ill-defined and being set to 0.0 in labels with no predicted samples. Use `zero_division` parameter to control this behavior.\n",
            "  _warn_prf(average, modifier, msg_start, len(result))\n",
            "/usr/local/lib/python3.10/dist-packages/sklearn/metrics/_classification.py:1344: UndefinedMetricWarning: Precision and F-score are ill-defined and being set to 0.0 in labels with no predicted samples. Use `zero_division` parameter to control this behavior.\n",
            "  _warn_prf(average, modifier, msg_start, len(result))\n"
          ]
        },
        {
          "name": "stdout",
          "output_type": "stream",
          "text": [
            "Epoch 4/10 - Train loss: 1.3643, accuracy: 0.5722, precision: 0.5364, recall: 0.5722, F1: 0.5379, Val loss: 1.3856, accuracy: 0.5699, precision: 0.5299, recall: 0.5699, F1: 0.5374\n"
          ]
        },
        {
          "name": "stderr",
          "output_type": "stream",
          "text": [
            "/usr/local/lib/python3.10/dist-packages/sklearn/metrics/_classification.py:1344: UndefinedMetricWarning: Precision and F-score are ill-defined and being set to 0.0 in labels with no predicted samples. Use `zero_division` parameter to control this behavior.\n",
            "  _warn_prf(average, modifier, msg_start, len(result))\n",
            "/usr/local/lib/python3.10/dist-packages/sklearn/metrics/_classification.py:1344: UndefinedMetricWarning: Precision and F-score are ill-defined and being set to 0.0 in labels with no predicted samples. Use `zero_division` parameter to control this behavior.\n",
            "  _warn_prf(average, modifier, msg_start, len(result))\n"
          ]
        },
        {
          "name": "stdout",
          "output_type": "stream",
          "text": [
            "Epoch 5/10 - Train loss: 1.3262, accuracy: 0.5821, precision: 0.5480, recall: 0.5821, F1: 0.5500, Val loss: 1.3827, accuracy: 0.5687, precision: 0.5399, recall: 0.5687, F1: 0.5339\n"
          ]
        },
        {
          "name": "stderr",
          "output_type": "stream",
          "text": [
            "/usr/local/lib/python3.10/dist-packages/sklearn/metrics/_classification.py:1344: UndefinedMetricWarning: Precision and F-score are ill-defined and being set to 0.0 in labels with no predicted samples. Use `zero_division` parameter to control this behavior.\n",
            "  _warn_prf(average, modifier, msg_start, len(result))\n",
            "/usr/local/lib/python3.10/dist-packages/sklearn/metrics/_classification.py:1344: UndefinedMetricWarning: Precision and F-score are ill-defined and being set to 0.0 in labels with no predicted samples. Use `zero_division` parameter to control this behavior.\n",
            "  _warn_prf(average, modifier, msg_start, len(result))\n"
          ]
        },
        {
          "name": "stdout",
          "output_type": "stream",
          "text": [
            "Epoch 6/10 - Train loss: 1.2962, accuracy: 0.5871, precision: 0.5551, recall: 0.5871, F1: 0.5570, Val loss: 1.3667, accuracy: 0.5736, precision: 0.5427, recall: 0.5736, F1: 0.5394\n"
          ]
        },
        {
          "name": "stderr",
          "output_type": "stream",
          "text": [
            "/usr/local/lib/python3.10/dist-packages/sklearn/metrics/_classification.py:1344: UndefinedMetricWarning: Precision and F-score are ill-defined and being set to 0.0 in labels with no predicted samples. Use `zero_division` parameter to control this behavior.\n",
            "  _warn_prf(average, modifier, msg_start, len(result))\n"
          ]
        },
        {
          "name": "stdout",
          "output_type": "stream",
          "text": [
            "Epoch 7/10 - Train loss: 1.2592, accuracy: 0.5959, precision: 0.5712, recall: 0.5959, F1: 0.5683, Val loss: 1.3681, accuracy: 0.5740, precision: 0.5431, recall: 0.5740, F1: 0.5391\n"
          ]
        },
        {
          "name": "stderr",
          "output_type": "stream",
          "text": [
            "/usr/local/lib/python3.10/dist-packages/sklearn/metrics/_classification.py:1344: UndefinedMetricWarning: Precision and F-score are ill-defined and being set to 0.0 in labels with no predicted samples. Use `zero_division` parameter to control this behavior.\n",
            "  _warn_prf(average, modifier, msg_start, len(result))\n",
            "/usr/local/lib/python3.10/dist-packages/sklearn/metrics/_classification.py:1344: UndefinedMetricWarning: Precision and F-score are ill-defined and being set to 0.0 in labels with no predicted samples. Use `zero_division` parameter to control this behavior.\n",
            "  _warn_prf(average, modifier, msg_start, len(result))\n"
          ]
        },
        {
          "name": "stdout",
          "output_type": "stream",
          "text": [
            "Epoch 8/10 - Train loss: 1.2209, accuracy: 0.6053, precision: 0.5812, recall: 0.6053, F1: 0.5801, Val loss: 1.3728, accuracy: 0.5787, precision: 0.5495, recall: 0.5787, F1: 0.5514\n"
          ]
        },
        {
          "name": "stderr",
          "output_type": "stream",
          "text": [
            "/usr/local/lib/python3.10/dist-packages/sklearn/metrics/_classification.py:1344: UndefinedMetricWarning: Precision and F-score are ill-defined and being set to 0.0 in labels with no predicted samples. Use `zero_division` parameter to control this behavior.\n",
            "  _warn_prf(average, modifier, msg_start, len(result))\n"
          ]
        },
        {
          "name": "stdout",
          "output_type": "stream",
          "text": [
            "Epoch 9/10 - Train loss: 1.1750, accuracy: 0.6177, precision: 0.5967, recall: 0.6177, F1: 0.5944, Val loss: 1.3897, accuracy: 0.5746, precision: 0.5475, recall: 0.5746, F1: 0.5492\n",
            "Epoch 10/10 - Train loss: 1.1195, accuracy: 0.6320, precision: 0.6155, recall: 0.6320, F1: 0.6116, Val loss: 1.4009, accuracy: 0.5723, precision: 0.5515, recall: 0.5723, F1: 0.5513\n"
          ]
        }
      ],
      "source": [
        "optimizer = optim.Adam(model.parameters(), lr=0.001)\n",
        "criterion = nn.CrossEntropyLoss()\n",
        "\n",
        "num_epochs = 10\n",
        "device = torch.device(\"cuda\" if torch.cuda.is_available() else \"cpu\")\n",
        "model.to(device)\n",
        "\n",
        "train_losses, train_accuracies = [], []\n",
        "val_losses, val_accuracies = [], []\n",
        "\n",
        "best_val_accuracy = 0\n",
        "\n",
        "for epoch in range(num_epochs):\n",
        "    train_loss, train_accuracy, train_precision, train_recall, train_f1 = train_model(model, train_loader, criterion, optimizer, device)\n",
        "    val_loss, val_accuracy, val_precision, val_recall, val_f1 = evaluate_model(model, valid_loader, criterion, device)\n",
        "\n",
        "    train_losses.append(train_loss)\n",
        "    train_accuracies.append(train_accuracy)\n",
        "    val_losses.append(val_loss)\n",
        "    val_accuracies.append(val_accuracy)\n",
        "\n",
        "    print(f\"Epoch {epoch+1}/{num_epochs} - Train loss: {train_loss:.4f}, accuracy: {train_accuracy:.4f}, precision: {train_precision:.4f}, recall: {train_recall:.4f}, F1: {train_f1:.4f}, Val loss: {val_loss:.4f}, accuracy: {val_accuracy:.4f}, precision: {val_precision:.4f}, recall: {val_recall:.4f}, F1: {val_f1:.4f}\")\n",
        "\n",
        "    if val_accuracy > best_val_accuracy:\n",
        "        best_val_accuracy = val_accuracy\n",
        "        torch.save(model.state_dict(), \"best_model.pth\")\n",
        "\n",
        "\n"
      ]
    },
    {
      "cell_type": "code",
      "execution_count": null,
      "metadata": {
        "colab": {
          "base_uri": "https://localhost:8080/",
          "height": 410
        },
        "id": "BLb6SlfgdxWY",
        "outputId": "9390636b-1b14-475b-fe45-c5c82ba499a6"
      },
      "outputs": [
        {
          "data": {
            "image/png": "[encoded data removed]",
            "text/plain": [
              "<Figure size 1200x400 with 2 Axes>"
            ]
          },
          "metadata": {},
          "output_type": "display_data"
        }
      ],
      "source": [
        "import matplotlib.pyplot as plt\n",
        "\n",
        "plt.figure(figsize=(12, 4))\n",
        "plt.subplot(1, 2, 1)\n",
        "plt.plot(train_losses, label='Training Loss')\n",
        "plt.plot(val_losses, label='Validation Loss')\n",
        "plt.title('Training and Validation Loss')\n",
        "plt.xlabel('Epoch')\n",
        "plt.ylabel('Loss')\n",
        "plt.legend()\n",
        "plt.subplot(1, 2, 2)\n",
        "plt.plot(train_accuracies, label='Training Accuracy')\n",
        "plt.plot(val_accuracies, label='Validation Accuracy')\n",
        "plt.title('Training and Validation Accuracy')\n",
        "plt.xlabel('Epoch')\n",
        "plt.ylabel('Accuracy')\n",
        "plt.legend()\n",
        "plt.show()\n"
      ]
    },
    {
      "cell_type": "markdown",
      "metadata": {
        "id": "GruI-tjP8RNe"
      },
      "source": []
    },
    {
      "cell_type": "code",
      "execution_count": null,
      "metadata": {
        "colab": {
          "base_uri": "https://localhost:8080/",
          "height": 393
        },
        "id": "udYs3rdWsTvu",
        "outputId": "004d644d-7bb1-46a8-8d8c-1bc679176457"
      },
      "outputs": [
        {
          "ename": "KeyboardInterrupt",
          "evalue": "ignored",
          "output_type": "error",
          "traceback": [
            "\u001b[0;31m---------------------------------------------------------------------------\u001b[0m",
            "\u001b[0;31mKeyboardInterrupt\u001b[0m                         Traceback (most recent call last)",
            "\u001b[0;32m<ipython-input-19-7c1c716e34fd>\u001b[0m in \u001b[0;36m<cell line: 8>\u001b[0;34m()\u001b[0m\n\u001b[1;32m      6\u001b[0m \u001b[0;34m\u001b[0m\u001b[0m\n\u001b[1;32m      7\u001b[0m \u001b[0;31m# 训练模型\u001b[0m\u001b[0;34m\u001b[0m\u001b[0;34m\u001b[0m\u001b[0m\n\u001b[0;32m----> 8\u001b[0;31m \u001b[0msvm_classifier\u001b[0m\u001b[0;34m.\u001b[0m\u001b[0mfit\u001b[0m\u001b[0;34m(\u001b[0m\u001b[0mX_train\u001b[0m\u001b[0;34m,\u001b[0m \u001b[0my_train\u001b[0m\u001b[0;34m)\u001b[0m\u001b[0;34m\u001b[0m\u001b[0;34m\u001b[0m\u001b[0m\n\u001b[0m\u001b[1;32m      9\u001b[0m \u001b[0;34m\u001b[0m\u001b[0m\n\u001b[1;32m     10\u001b[0m \u001b[0;31m# 在验证集上进行预测\u001b[0m\u001b[0;34m\u001b[0m\u001b[0;34m\u001b[0m\u001b[0m\n",
            "\u001b[0;32m/usr/local/lib/python3.10/dist-packages/sklearn/svm/_base.py\u001b[0m in \u001b[0;36mfit\u001b[0;34m(self, X, y, sample_weight)\u001b[0m\n\u001b[1;32m    250\u001b[0m \u001b[0;34m\u001b[0m\u001b[0m\n\u001b[1;32m    251\u001b[0m         \u001b[0mseed\u001b[0m \u001b[0;34m=\u001b[0m \u001b[0mrnd\u001b[0m\u001b[0;34m.\u001b[0m\u001b[0mrandint\u001b[0m\u001b[0;34m(\u001b[0m\u001b[0mnp\u001b[0m\u001b[0;34m.\u001b[0m\u001b[0miinfo\u001b[0m\u001b[0;34m(\u001b[0m\u001b[0;34m\"i\"\u001b[0m\u001b[0;34m)\u001b[0m\u001b[0;34m.\u001b[0m\u001b[0mmax\u001b[0m\u001b[0;34m)\u001b[0m\u001b[0;34m\u001b[0m\u001b[0;34m\u001b[0m\u001b[0m\n\u001b[0;32m--> 252\u001b[0;31m         \u001b[0mfit\u001b[0m\u001b[0;34m(\u001b[0m\u001b[0mX\u001b[0m\u001b[0;34m,\u001b[0m \u001b[0my\u001b[0m\u001b[0;34m,\u001b[0m \u001b[0msample_weight\u001b[0m\u001b[0;34m,\u001b[0m \u001b[0msolver_type\u001b[0m\u001b[0;34m,\u001b[0m \u001b[0mkernel\u001b[0m\u001b[0;34m,\u001b[0m \u001b[0mrandom_seed\u001b[0m\u001b[0;34m=\u001b[0m\u001b[0mseed\u001b[0m\u001b[0;34m)\u001b[0m\u001b[0;34m\u001b[0m\u001b[0;34m\u001b[0m\u001b[0m\n\u001b[0m\u001b[1;32m    253\u001b[0m         \u001b[0;31m# see comment on the other call to np.iinfo in this file\u001b[0m\u001b[0;34m\u001b[0m\u001b[0;34m\u001b[0m\u001b[0m\n\u001b[1;32m    254\u001b[0m \u001b[0;34m\u001b[0m\u001b[0m\n",
            "\u001b[0;32m/usr/local/lib/python3.10/dist-packages/sklearn/svm/_base.py\u001b[0m in \u001b[0;36m_dense_fit\u001b[0;34m(self, X, y, sample_weight, solver_type, kernel, random_seed)\u001b[0m\n\u001b[1;32m    329\u001b[0m             \u001b[0mself\u001b[0m\u001b[0;34m.\u001b[0m\u001b[0mfit_status_\u001b[0m\u001b[0;34m,\u001b[0m\u001b[0;34m\u001b[0m\u001b[0;34m\u001b[0m\u001b[0m\n\u001b[1;32m    330\u001b[0m             \u001b[0mself\u001b[0m\u001b[0;34m.\u001b[0m\u001b[0m_num_iter\u001b[0m\u001b[0;34m,\u001b[0m\u001b[0;34m\u001b[0m\u001b[0;34m\u001b[0m\u001b[0m\n\u001b[0;32m--> 331\u001b[0;31m         \u001b[0;34m)\u001b[0m \u001b[0;34m=\u001b[0m \u001b[0mlibsvm\u001b[0m\u001b[0;34m.\u001b[0m\u001b[0mfit\u001b[0m\u001b[0;34m(\u001b[0m\u001b[0;34m\u001b[0m\u001b[0;34m\u001b[0m\u001b[0m\n\u001b[0m\u001b[1;32m    332\u001b[0m             \u001b[0mX\u001b[0m\u001b[0;34m,\u001b[0m\u001b[0;34m\u001b[0m\u001b[0;34m\u001b[0m\u001b[0m\n\u001b[1;32m    333\u001b[0m             \u001b[0my\u001b[0m\u001b[0;34m,\u001b[0m\u001b[0;34m\u001b[0m\u001b[0;34m\u001b[0m\u001b[0m\n",
            "\u001b[0;31mKeyboardInterrupt\u001b[0m: "
          ]
        }
      ],
      "source": [
        "from sklearn.svm import SVC\n",
        "from sklearn.metrics import classification_report, accuracy_score\n",
        "\n",
        "# 创建SVM分类器实例\n",
        "svm_classifier = SVC(kernel='linear')  # 你可以选择不同的核，例如 'linear', 'poly', 'rbf', 'sigmoid'\n",
        "\n",
        "# 训练模型\n",
        "svm_classifier.fit(X_train, y_train)\n",
        "\n",
        "# 在验证集上进行预测\n",
        "y_pred = svm_classifier.predict(X_valid)\n",
        "\n",
        "# 评估模型\n",
        "accuracy = accuracy_score(y_valid, y_pred)\n",
        "report = classification_report(y_valid, y_pred)\n",
        "\n",
        "print(\"Accuracy:\", accuracy)\n",
        "print(\"Classification Report:\")\n",
        "print(report)\n"
      ]
    }
  ],
  "metadata": {
    "accelerator": "GPU",
    "colab": {
      "provenance": [],
      "toc_visible": true
    },
    "kernelspec": {
      "display_name": "Python 3",
      "name": "python3"
    },
    "language_info": {
      "name": "python"
    }
  },
  "nbformat": 4,
  "nbformat_minor": 0
}